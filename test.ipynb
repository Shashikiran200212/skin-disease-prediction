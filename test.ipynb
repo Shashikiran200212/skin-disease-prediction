{
 "cells": [
  {
   "cell_type": "code",
   "execution_count": 4,
   "metadata": {},
   "outputs": [],
   "source": [
    "import numpy as np\n",
    "import gradio as gr\n"
   ]
  },
  {
   "cell_type": "code",
   "execution_count": 1,
   "metadata": {},
   "outputs": [],
   "source": [
    "from keras.models import load_model\n",
    "from tensorflow.keras.models import  model_from_json\n",
    "json_file = open('modelnew.json', 'r')\n",
    "loaded_model_json = json_file.read()\n",
    "json_file.close()\n",
    "model = model_from_json(loaded_model_json)\n",
    "model.load_weights(\"modelnew.h5\")\n",
    "health=load_model('healthmodel2')\n",
    "skinmodel=load_model('newskinmodel')\n",
    "classes = ['Actinic Keratoses (Solar Keratoses)','Basal cell carcinoma','Benign keratosis','Dermatofibroma','Melanoma', 'Melanocytic nevi','Vascular skin']\n",
    "healthclass=['normal','not']\n",
    "skinclass=['Invalid image','skin']"
   ]
  },
  {
   "cell_type": "code",
   "execution_count": 2,
   "metadata": {},
   "outputs": [],
   "source": [
    "def predict_image(img):\n",
    "  img_4d=img.reshape(-1,224,224,3)\n",
    "  img = img_4d / 255.0\n",
    "  prediction3=skinmodel.predict(img)[0]\n",
    "  pred = np.argmax(prediction3)\n",
    "  de=skinclass[pred]\n",
    "  accuracy = round(float(prediction3[pred]),2)\n",
    "  if de==skinclass[0]:\n",
    "    confidences = {skinclass[i]: round(float(prediction3[i]),2) for i in range(2)} \n",
    "    print(confidences)\n",
    "    return confidences\n",
    "  prediction2=health.predict(img)[0]\n",
    "  pred = np.argmax(prediction2)\n",
    "  de=healthclass[pred]\n",
    "  accuracy = round(float(prediction2[pred]),2)\n",
    "  if de=='normal':\n",
    "    return {'healthy skin':float(accuracy)}\n",
    "  prediction=model.predict(img)[0]\n",
    "  confidences = {classes[i]: round(float(prediction[i]),2) for i in range(7)} \n",
    "  return confidences\n",
    "  \n"
   ]
  },
  {
   "cell_type": "code",
   "execution_count": 5,
   "metadata": {},
   "outputs": [
    {
     "name": "stderr",
     "output_type": "stream",
     "text": [
      "c:\\Users\\shash\\OneDrive\\Desktop\\skin disease prediction\\.venv\\lib\\site-packages\\gradio\\inputs.py:256: UserWarning: Usage of gradio.inputs is deprecated, and will not be supported in the future, please import your component from gradio.components\n",
      "  warnings.warn(\n",
      "c:\\Users\\shash\\OneDrive\\Desktop\\skin disease prediction\\.venv\\lib\\site-packages\\gradio\\deprecation.py:40: UserWarning: `optional` parameter is deprecated, and it has no effect\n",
      "  warnings.warn(value)\n",
      "c:\\Users\\shash\\OneDrive\\Desktop\\skin disease prediction\\.venv\\lib\\site-packages\\gradio\\outputs.py:196: UserWarning: Usage of gradio.outputs is deprecated, and will not be supported in the future, please import your components from gradio.components\n",
      "  warnings.warn(\n",
      "c:\\Users\\shash\\OneDrive\\Desktop\\skin disease prediction\\.venv\\lib\\site-packages\\gradio\\deprecation.py:40: UserWarning: The 'type' parameter has been deprecated. Use the Number component instead.\n",
      "  warnings.warn(value)\n"
     ]
    },
    {
     "name": "stdout",
     "output_type": "stream",
     "text": [
      "IMPORTANT: You are using gradio version 3.12.0, however version 4.29.0 is available, please upgrade.\n",
      "--------\n",
      "Running on local URL:  http://127.0.0.1:7860\n",
      "\n",
      "To create a public link, set `share=True` in `launch()`.\n"
     ]
    },
    {
     "data": {
      "text/html": [
       "<div><iframe src=\"http://127.0.0.1:7860/\" width=\"100%\" height=\"500\" allow=\"autoplay; camera; microphone; clipboard-read; clipboard-write;\" frameborder=\"0\" allowfullscreen></iframe></div>"
      ],
      "text/plain": [
       "<IPython.core.display.HTML object>"
      ]
     },
     "metadata": {},
     "output_type": "display_data"
    },
    {
     "data": {
      "text/plain": []
     },
     "execution_count": 5,
     "metadata": {},
     "output_type": "execute_result"
    },
    {
     "name": "stdout",
     "output_type": "stream",
     "text": [
      "1/1 [==============================] - 1s 698ms/step\n",
      "1/1 [==============================] - 1s 714ms/step\n",
      "1/1 [==============================] - 0s 112ms/step\n",
      "1/1 [==============================] - 0s 118ms/step\n",
      "1/1 [==============================] - 1s 537ms/step\n"
     ]
    }
   ],
   "source": [
    "image = gr.inputs.Image(shape=(224,224))\n",
    "classes = ['Actinic Keratoses (Solar Keratoses) and intraepithelial Carcinoma (Bowen’s disease)','Basal cell carcinoma','Benign keratosis','Dermatofibroma','Melanoma', 'Melanocytic nevi','Vascular skin']\n",
    "gr.Interface(fn=predict_image,title='Skin disease Prediction' ,\n",
    "             inputs=gr.Image(shape=(224, 224)),\n",
    "             outputs=gr.outputs.Label(num_top_classes=7),\n",
    "             examples=['type nv.jpg','bkl.jpg','normal.jpg',\"notskin (19).jpg\"]).launch()\n"
   ]
  }
 ],
 "metadata": {
  "kernelspec": {
   "display_name": "Python 3.10.7 64-bit",
   "language": "python",
   "name": "python3"
  },
  "language_info": {
   "codemirror_mode": {
    "name": "ipython",
    "version": 3
   },
   "file_extension": ".py",
   "mimetype": "text/x-python",
   "name": "python",
   "nbconvert_exporter": "python",
   "pygments_lexer": "ipython3",
   "version": "3.10.0"
  },
  "orig_nbformat": 4,
  "vscode": {
   "interpreter": {
    "hash": "d3e10ef16274dd72e574b8fa73b58450b957d8421a2901baded3cca26fcf5dda"
   }
  }
 },
 "nbformat": 4,
 "nbformat_minor": 2
}
